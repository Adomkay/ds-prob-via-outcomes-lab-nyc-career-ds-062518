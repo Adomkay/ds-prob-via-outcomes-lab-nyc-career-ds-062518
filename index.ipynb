{
 "cells": [
  {
   "cell_type": "markdown",
   "metadata": {},
   "source": [
    "# Lab on probability via outcomes"
   ]
  },
  {
   "cell_type": "markdown",
   "metadata": {},
   "source": [
    "## Introduction"
   ]
  },
  {
   "cell_type": "markdown",
   "metadata": {},
   "source": [
    "Key point of this lab: if we have a sample space where each outcome is equally likely:\n",
    "\n",
    "$P(\\text{each outcome}) = \\dfrac{1}{\\mid S \\mid}$\n",
    "\n",
    "where $\\mid S \\mid$ is the cardinality of $S$, in other words, the number of possible outcomes in the sample space.\n",
    "then\n",
    "\n",
    "$P(E) = \\dfrac{ \\text{number of outcomes in E} }{\\text{number of outcomes in S}}= \\dfrac{\\mid E \\mid}{\\mid S \\mid}$"
   ]
  },
  {
   "cell_type": "markdown",
   "metadata": {},
   "source": [
    "## Exercise 1\n",
    "\n",
    "In this exercise, we'll look at possible outcomes when throwing a dice twice.\n",
    "\n",
    "Next, we'll compute a couple or probabilities associated with doing this.\n",
    "First, let's create the sample set as a numpy array below."
   ]
  },
  {
   "cell_type": "code",
   "execution_count": null,
   "metadata": {},
   "outputs": [],
   "source": [
    "import numpy as np\n",
    "sample_dice = np.array([(1, 1), (1, 2), (1, 3), (1, 4), (1, 5), (1, 6),\n",
    "              (2, 1), (2, 2), (2, 3), (2, 4), (2, 5), (2, 6),\n",
    "              (3, 1), (3, 2), (3, 3), (3, 4), (3, 5), (3, 6),\n",
    "              (4, 1), (4, 2), (4, 3), (4, 4), (4, 5), (4, 6),\n",
    "              (5, 1), (5, 2), (5, 3), (5, 4), (5, 5), (5, 6),\n",
    "              (6, 1), (6, 2), (6, 3), (6, 4), (6, 5), (6, 6)])"
   ]
  },
  {
   "cell_type": "markdown",
   "metadata": {},
   "source": [
    "Look at the shape of the array to reassure we haven't made any mistakes."
   ]
  },
  {
   "cell_type": "code",
   "execution_count": null,
   "metadata": {},
   "outputs": [],
   "source": [
    "sample_dice.shape # should be equal to (36,2)"
   ]
  },
  {
   "cell_type": "markdown",
   "metadata": {},
   "source": [
    "Use Python to obtain the following probabilities:"
   ]
  },
  {
   "cell_type": "markdown",
   "metadata": {},
   "source": [
    "#### a. What is the probability of throwing a 5 at least once?"
   ]
  },
  {
   "cell_type": "markdown",
   "metadata": {},
   "source": [
    "First, use sample_dice to get \"True\" values for each time a 5 occurs."
   ]
  },
  {
   "cell_type": "code",
   "execution_count": null,
   "metadata": {},
   "outputs": [],
   "source": [
    "set_5 = sample_dice == (5)"
   ]
  },
  {
   "cell_type": "markdown",
   "metadata": {},
   "source": [
    "Next, make sure that you get a value `True` for each pair where at least one 5 was thrown."
   ]
  },
  {
   "cell_type": "code",
   "execution_count": null,
   "metadata": {},
   "outputs": [],
   "source": [
    "true_5 = np.any(set_5, axis = 1)\n",
    "print(true_5)"
   ]
  },
  {
   "cell_type": "markdown",
   "metadata": {},
   "source": [
    "Applying the `sum()` function you can get to the total number of items in the event space. Divide this by the total number in the sample space."
   ]
  },
  {
   "cell_type": "code",
   "execution_count": null,
   "metadata": {},
   "outputs": [],
   "source": [
    "prob_5 = true_5.sum()/len(sample_dice)\n",
    "print(prob_5)"
   ]
  },
  {
   "cell_type": "markdown",
   "metadata": {},
   "source": [
    "#### b. What is the probability of throwing a 5 or 6 at least once?"
   ]
  },
  {
   "cell_type": "code",
   "execution_count": null,
   "metadata": {},
   "outputs": [],
   "source": [
    "set_5 =  sample_dice == (5)\n",
    "set_6 = sample_dice == (6)"
   ]
  },
  {
   "cell_type": "code",
   "execution_count": null,
   "metadata": {},
   "outputs": [],
   "source": [
    "set_5_6 = (set_6 + set_5)"
   ]
  },
  {
   "cell_type": "code",
   "execution_count": null,
   "metadata": {},
   "outputs": [],
   "source": [
    "set_any_5_6 = set_5_6.any(axis=1)\n",
    "print(set_any_5_6) "
   ]
  },
  {
   "cell_type": "code",
   "execution_count": null,
   "metadata": {},
   "outputs": [],
   "source": [
    "prob_5_6 = set_any_5_6.sum()/len(sample_dice)\n",
    "print(prob_5_6)"
   ]
  },
  {
   "cell_type": "markdown",
   "metadata": {},
   "source": [
    "#### c. What is the probability of the outcome having a sum of exactly 8?"
   ]
  },
  {
   "cell_type": "code",
   "execution_count": null,
   "metadata": {},
   "outputs": [],
   "source": [
    "sum_dice = np.sum(sample_dice, axis = 1)\n",
    "sum_8 = sum(sum_dice == 8)"
   ]
  },
  {
   "cell_type": "code",
   "execution_count": null,
   "metadata": {},
   "outputs": [],
   "source": [
    "prob_sum_8 = sum_8/len(sample_dice)\n",
    "print(prob_sum_8)"
   ]
  },
  {
   "cell_type": "markdown",
   "metadata": {},
   "source": [
    "# Exercise 2"
   ]
  },
  {
   "cell_type": "markdown",
   "metadata": {},
   "source": [
    "At a supermarket, we randomly select customers, and make notes of whether a certain customer owns a Visa card (event A) or an Amex credit card (event B). Some customers own both cards.\n",
    "You can assume that:\n",
    "\n",
    "- P(A) = 0.5\n",
    "- P(B) = 0.4\n",
    "- both A and B = 0.25.\n",
    "\n",
    "1) compute the probability that a selected customer has at least one credit card.\n",
    "\n",
    "2) compute the probability that a selected customer doesn't own any of the mentioned credit cards.\n",
    "\n",
    "3) compute the probability that a customer *only* owns VISA card.\n",
    "\n",
    "(You can use python here, but you don't have to)"
   ]
  },
  {
   "cell_type": "markdown",
   "metadata": {},
   "source": [
    "Solution\n",
    "\n",
    "1) $P(A\\cup B) = P(A) + P(B) - P(A\\cap B)  = 0.5+0.4-0.25 = 0.65 $\n",
    "\n",
    "2) $1 - P(A\\cup B) = 0.35 $\n",
    "\n",
    "3) $P(A)-P(B\\cap A) = 0.25$"
   ]
  },
  {
   "cell_type": "markdown",
   "metadata": {},
   "source": [
    "# Exercise 3"
   ]
  },
  {
   "cell_type": "markdown",
   "metadata": {},
   "source": [
    "A teaching assistant is holding office hours so students can make appointments. She has 6 appointments scheduled today, 3 by male students, and 2 by female students. "
   ]
  },
  {
   "cell_type": "code",
   "execution_count": null,
   "metadata": {},
   "outputs": [],
   "source": [
    "import numpy as np"
   ]
  },
  {
   "cell_type": "markdown",
   "metadata": {},
   "source": [
    "NOTE: pretty brutal having them type it by hand, but will prove the point of what they'll see later"
   ]
  },
  {
   "cell_type": "code",
   "execution_count": null,
   "metadata": {},
   "outputs": [],
   "source": [
    "sample_mf= np.array([(\"M\",\"M\",\"M\",\"F\",\"F\",\"F\"), (\"M\",\"M\",\"F\",\"M\",\"F\",\"F\"), (\"M\",\"M\",\"F\",\"F\",\"M\",\"F\"),\n",
    "                     (\"M\",\"M\",\"F\",\"F\",\"F\",\"M\"), (\"M\",\"F\",\"M\",\"M\",\"F\",\"F\"), (\"M\",\"F\",\"M\",\"F\",\"F\",\"M\"),\n",
    "                     (\"M\",\"F\",\"M\",\"F\",\"M\",\"F\"), (\"M\",\"F\",\"F\",\"M\",\"F\",\"M\"), (\"M\",\"F\",\"F\",\"M\",\"M\",\"F\"),\n",
    "                     (\"M\",\"F\",\"F\",\"F\",\"M\",\"M\"), (\"F\",\"F\",\"F\",\"M\",\"M\",\"M\"), (\"F\",\"F\",\"M\",\"F\",\"M\",\"M\"), \n",
    "                     (\"F\",\"F\",\"M\",\"M\",\"F\",\"M\"), (\"F\",\"F\",\"M\",\"M\",\"M\",\"F\"), (\"F\",\"M\",\"F\",\"F\",\"M\",\"M\"),\n",
    "                     (\"F\",\"M\",\"F\",\"M\",\"M\",\"F\"), (\"F\",\"M\",\"F\",\"M\",\"F\",\"M\"), (\"F\",\"M\",\"M\",\"F\",\"M\",\"F\"),\n",
    "                     (\"F\",\"M\",\"M\",\"F\",\"F\",\"M\"), (\"F\",\"M\",\"M\",\"M\",\"F\",\"F\") ])"
   ]
  },
  {
   "cell_type": "code",
   "execution_count": null,
   "metadata": {},
   "outputs": [],
   "source": [
    "sample_mf.shape"
   ]
  },
  {
   "cell_type": "code",
   "execution_count": null,
   "metadata": {},
   "outputs": [],
   "source": [
    "sample_length= len(sample_mf)\n",
    "sample_length"
   ]
  },
  {
   "cell_type": "markdown",
   "metadata": {},
   "source": [
    "#### 1. Calculate the probability that at least 2 out of the first 3 appointments are with female students"
   ]
  },
  {
   "cell_type": "markdown",
   "metadata": {},
   "source": [
    "First, select the first 3 appointment slots and check for \"F\"."
   ]
  },
  {
   "cell_type": "code",
   "execution_count": null,
   "metadata": {},
   "outputs": [],
   "source": [
    "first_3_F = sample_mf[:,:3] == \"F\"\n",
    "print(first_3_F)"
   ]
  },
  {
   "cell_type": "code",
   "execution_count": null,
   "metadata": {},
   "outputs": [],
   "source": [
    "num_F = np.sum(first_3_F, axis=1)\n",
    "print(num_F)"
   ]
  },
  {
   "cell_type": "code",
   "execution_count": null,
   "metadata": {},
   "outputs": [],
   "source": [
    "F_2plus = np.sum(num_F > 1)\n",
    "print(F_2plus)"
   ]
  },
  {
   "cell_type": "code",
   "execution_count": null,
   "metadata": {},
   "outputs": [],
   "source": [
    "prob_F_2plus = F_2plus.sum()/sample_length\n",
    "print(prob_F_2plus)"
   ]
  },
  {
   "cell_type": "markdown",
   "metadata": {},
   "source": [
    "#### 2. Calculate the probability that after 4 appointment slots, all the female students have had an appointment"
   ]
  },
  {
   "cell_type": "code",
   "execution_count": null,
   "metadata": {},
   "outputs": [],
   "source": [
    "np.sum((sample_mf[:,4:]== ['M','M']).all(axis=1))/sample_length"
   ]
  },
  {
   "cell_type": "markdown",
   "metadata": {},
   "source": [
    "You noticed that coming up with the sample space was probably the most time-consuming part of the exercise, and it would really become unfeasible to write this down for say, 10 or, even worse, 20 appointments in a row. You'll learn about methods that make this easy in the next lecture!"
   ]
  },
  {
   "cell_type": "markdown",
   "metadata": {},
   "source": [
    "## Sources"
   ]
  },
  {
   "cell_type": "markdown",
   "metadata": {},
   "source": [
    "https://www.datacamp.com/community/tutorials/statistics-python-tutorial-probability-1"
   ]
  },
  {
   "cell_type": "markdown",
   "metadata": {},
   "source": [
    "https://www.youtube.com/watch?v=oYXYLljkC48&index=2&list=PLcmJYc2muOR9H96hGlUBV2DkviVZFmHAh"
   ]
  }
 ],
 "metadata": {
  "kernelspec": {
   "display_name": "Python 3",
   "language": "python",
   "name": "python3"
  },
  "language_info": {
   "codemirror_mode": {
    "name": "ipython",
    "version": 3
   },
   "file_extension": ".py",
   "mimetype": "text/x-python",
   "name": "python",
   "nbconvert_exporter": "python",
   "pygments_lexer": "ipython3",
   "version": "3.6.5"
  }
 },
 "nbformat": 4,
 "nbformat_minor": 2
}
